{
 "cells": [
  {
   "cell_type": "code",
   "execution_count": 1,
   "metadata": {},
   "outputs": [],
   "source": [
    "PERFORMANCE = { \"CIFAR10\": \n",
    "               {\"SUPERVISED\":\n",
    "               {\"SEED\":[1,2,3,4,5,6,7,8,9,10],\n",
    "                \"ACCURACY\":[75.28,77.30,77.43,75.23,78.22,76.58,76.62,77.43,76.87,75.43],\n",
    "                \"NLL\": [3.928, 2.429, 3.448, 3.568, 3.420, 3.521, 4.065, 2.602, 2.658, 3.640],\n",
    "                \"ECE\": [0.224,0.194, 0.204, 0.222, 0.195, 0.210, 0.215,0.197,0.201,0.221]\n",
    "                }\n",
    "                },\n",
    "\n",
    "                \"CIFAR100\":{\"SUPERVISED\":\n",
    "               {\"SEED\":[1,2,3,4,5,6,7,8,9,10],\n",
    "                \"ACCURACY\":[60.08,60.18,60.70,60.72,59.58,60.30,60.40,59.96,61.70,61.06],\n",
    "                \"NLL\": [6.012,5.546,6.240,5.669,5.725,6.101,6.053,5.914,5.809,5.724],\n",
    "                \"ECE\": [0.345,0.338,0.345,0.341,0.345,0.342,0.343,0.343,0.332,0.333]\n",
    "                }\n",
    "                }\n",
    "                }"
   ]
  },
  {
   "cell_type": "markdown",
   "metadata": {},
   "source": [
    "# 지도학습 "
   ]
  },
  {
   "cell_type": "code",
   "execution_count": 15,
   "metadata": {},
   "outputs": [
    {
     "name": "stdout",
     "output_type": "stream",
     "text": [
      "          SEED  ACCURACY       NLL       ECE\n",
      "mean  6.400000  76.96000  3.055000  0.203400\n",
      "std   2.701851   0.38878  0.705682  0.008849\n",
      "          SEED   ACCURACY       NLL       ECE\n",
      "mean  4.800000  60.240000  5.821600  0.340600\n",
      "std   3.563706   0.534041  0.228653  0.005128\n"
     ]
    }
   ],
   "source": [
    "import pandas\n",
    "CIFAR10_SUPERVISED=pandas.DataFrame(PERFORMANCE['CIFAR10']['SUPERVISED'])\n",
    "print(CIFAR10_SUPERVISED.loc[CIFAR10_SUPERVISED['SEED'].isin([2,6,7,8,9])].agg(['mean','std']))\n",
    "\n",
    "CIFAR100_SUPERVISED=pandas.DataFrame(PERFORMANCE['CIFAR100']['SUPERVISED'])\n",
    "print(CIFAR100_SUPERVISED.loc[CIFAR100_SUPERVISED['SEED'].isin([1,2,5,6,10])].agg(['mean','std']))"
   ]
  }
 ],
 "metadata": {
  "kernelspec": {
   "display_name": "base",
   "language": "python",
   "name": "python3"
  },
  "language_info": {
   "codemirror_mode": {
    "name": "ipython",
    "version": 3
   },
   "file_extension": ".py",
   "mimetype": "text/x-python",
   "name": "python",
   "nbconvert_exporter": "python",
   "pygments_lexer": "ipython3",
   "version": "3.9.15"
  },
  "orig_nbformat": 4
 },
 "nbformat": 4,
 "nbformat_minor": 2
}
